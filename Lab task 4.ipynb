{
 "cells": [
  {
   "cell_type": "markdown",
   "id": "ee430ccd",
   "metadata": {},
   "source": [
    "## LAB TASK 4"
   ]
  },
  {
   "cell_type": "markdown",
   "id": "9be4adc3",
   "metadata": {},
   "source": [
    "## Question No. 2"
   ]
  },
  {
   "cell_type": "markdown",
   "id": "05b02da9",
   "metadata": {},
   "source": [
    "## CV"
   ]
  },
  {
   "cell_type": "code",
   "execution_count": 1,
   "id": "373e9f36",
   "metadata": {},
   "outputs": [
    {
     "name": "stdout",
     "output_type": "stream",
     "text": [
      "---------------Personal Information------------------\n",
      "Name: ABC\n",
      "Father Name: XYZ\n",
      "Date Of Birth: 01-01-1998\n",
      "Religion: Islam\n",
      "Contact No.: 0333-1234567\n",
      "Email: abc1498@gmail.com\n",
      "Address: Street 6, Abc road, Xyz Karachi\n",
      "\n",
      " ----------------Academic Quaification-----------------\n",
      "MATRICULATION\n",
      "Institution Name: ABC School\n",
      "Passing year: 2015\n",
      "Result: 85%\n",
      "INTERMEDIATE\n",
      "Institution Name: ABC College\n",
      "Passing year: 2017\n",
      "Result: 80%\n",
      "BACHELLORS\n",
      "Institution Name: ABC University\n",
      "Passing year: 2021\n",
      "Result: 3.5 GPA\n",
      "\n",
      " -----------------Professional Skills-------------------\n",
      "1: Python\n",
      "2: MS Office\n",
      "3: MATLAB\n",
      "\n",
      " ------------------Interpersonal Skills-------------------\n",
      "1: Fluent English speaking\n",
      "2: Good communication skills\n",
      "3: Commitment to deadlines\n",
      "\n",
      " -----------------Job Experience-----------------\n",
      "1: Worked as a teacher in ABC School\n",
      "2: Currently working as a teacher in XYZ School\n"
     ]
    }
   ],
   "source": [
    "print(\"---------------Personal Information------------------\")\n",
    "\n",
    "A = input(\"Name: \")\n",
    "B = input(\"Father Name: \")\n",
    "C = input(\"Date Of Birth: \")\n",
    "D = input(\"Religion: \")\n",
    "E = input(\"Contact No.: \")\n",
    "F = input(\"Email: \")\n",
    "G = input(\"Address: \")\n",
    "\n",
    "print(\"\\n ----------------Academic Quaification-----------------\")\n",
    "print(\"MATRICULATION\")\n",
    "H = input(\"Institution Name: \")\n",
    "I = int(input(\"Passing year: \"))\n",
    "J = input(\"Result: \")\n",
    "print(\"INTERMEDIATE\")\n",
    "K = input(\"Institution Name: \")\n",
    "L = int(input(\"Passing year: \"))\n",
    "M = input(\"Result: \")\n",
    "print(\"BACHELLORS\")\n",
    "N = input(\"Institution Name: \")\n",
    "O = int(input(\"Passing year: \"))\n",
    "P = input(\"Result: \")\n",
    "\n",
    "print(\"\\n -----------------Professional Skills-------------------\")\n",
    "Q = input(\"1: \")\n",
    "R = input(\"2: \")\n",
    "S = input(\"3: \")\n",
    "\n",
    "print(\"\\n ------------------Interpersonal Skills-------------------\")\n",
    "T = input(\"1: \")\n",
    "U = input(\"2: \")\n",
    "V = input(\"3: \")\n",
    "\n",
    "print(\"\\n -----------------Job Experience-----------------\")\n",
    "W = input(\"1: \")\n",
    "X = input(\"2: \")"
   ]
  },
  {
   "cell_type": "markdown",
   "id": "d899ae8e",
   "metadata": {},
   "source": [
    "## Question No. 3"
   ]
  },
  {
   "cell_type": "code",
   "execution_count": 1,
   "id": "562475f7",
   "metadata": {},
   "outputs": [
    {
     "name": "stdout",
     "output_type": "stream",
     "text": [
      "----------Student No. 1----------\n",
      "Name: Azwa\n",
      "Father Name: Arshad\n",
      "Roll No.: 001\n",
      "Age: 18\n",
      "----------Student No. 2----------\n",
      "Name: Fouzia\n",
      "Father Name: Razzaque\n",
      "Roll No.: 002\n",
      "Age: 32\n",
      "----------Student No. 3----------\n",
      "Name: Arisha\n",
      "Father Name: Nazir\n",
      "Roll No.: 003\n",
      "Age: 20\n",
      "----------Student No. 4----------\n",
      "Name: Alishba\n",
      "Father Name: Shariq\n",
      "Roll No.: 004\n",
      "Age: 16\n",
      "----------Student No. 5----------\n",
      "Name: Ainy Quratulain\n",
      "Father Name: Asif\n",
      "Roll No.: 005\n",
      "Age: 21\n",
      "+-------+-----------------+-------------+----------+-----+\n",
      "| S.No. |       Name      | Father Name | Roll No. | Age |\n",
      "+-------+-----------------+-------------+----------+-----+\n",
      "|   1   |       Azwa      |    Arshad   |   001    |  18 |\n",
      "|   2   |      Fouzia     |   Razzaque  |   002    |  32 |\n",
      "|   3   |      Arisha     |    Nazir    |   003    |  20 |\n",
      "|   4   |     Alishba     |    Shariq   |   004    |  16 |\n",
      "|   5   | Ainy Quratulain |     Asif    |   005    |  21 |\n",
      "+-------+-----------------+-------------+----------+-----+\n"
     ]
    }
   ],
   "source": [
    "from prettytable import PrettyTable\n",
    "x = PrettyTable()\n",
    "x.field_names = [\"S.No.\", \"Name\", \"Father Name\", \"Roll No.\", \"Age\"]\n",
    "print(\"----------Student No. 1----------\")\n",
    "x.add_row([1, input(\"Name: \"), input(\"Father Name: \"), input(\"Roll No.: \"), input(\"Age: \")]) \n",
    "print(\"----------Student No. 2----------\")\n",
    "x.add_row([2, input(\"Name: \"), input(\"Father Name: \"), input(\"Roll No.: \"), input(\"Age: \")])  \n",
    "print(\"----------Student No. 3----------\")\n",
    "x.add_row([3, input(\"Name: \"), input(\"Father Name: \"), input(\"Roll No.: \"), input(\"Age: \")])   \n",
    "print(\"----------Student No. 4----------\")\n",
    "x.add_row([4, input(\"Name: \"), input(\"Father Name: \"), input(\"Roll No.: \"), input(\"Age: \")])   \n",
    "print(\"----------Student No. 5----------\")\n",
    "x.add_row([5, input(\"Name: \"), input(\"Father Name: \"), input(\"Roll No.: \"), input(\"Age: \")])   \n",
    "print(x)"
   ]
  },
  {
   "cell_type": "code",
   "execution_count": null,
   "id": "c4b864b2",
   "metadata": {},
   "outputs": [],
   "source": []
  }
 ],
 "metadata": {
  "kernelspec": {
   "display_name": "Python 3 (ipykernel)",
   "language": "python",
   "name": "python3"
  },
  "language_info": {
   "codemirror_mode": {
    "name": "ipython",
    "version": 3
   },
   "file_extension": ".py",
   "mimetype": "text/x-python",
   "name": "python",
   "nbconvert_exporter": "python",
   "pygments_lexer": "ipython3",
   "version": "3.9.7"
  }
 },
 "nbformat": 4,
 "nbformat_minor": 5
}
