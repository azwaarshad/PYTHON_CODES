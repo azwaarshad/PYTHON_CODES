{
 "cells": [
  {
   "cell_type": "markdown",
   "id": "9791605f",
   "metadata": {},
   "source": [
    "## LAB TASK 1"
   ]
  },
  {
   "cell_type": "markdown",
   "id": "41436c57",
   "metadata": {},
   "source": [
    "## Food App"
   ]
  },
  {
   "cell_type": "code",
   "execution_count": 7,
   "id": "2089e65b",
   "metadata": {},
   "outputs": [
    {
     "name": "stdout",
     "output_type": "stream",
     "text": [
      "1. Pakistani food\n",
      "2. chinese food\n",
      "Select country food: 2\n",
      "Chinese food\n",
      "\n",
      "Welcome to chinese food\n",
      "\n",
      "1. Chicken Manchurian\n",
      "2. Chicken Shashlik\n",
      "3. Noodles\n",
      "4. Spaghetti\n",
      "5. Special Chinese Biryani\n",
      "Please select chinese food: 1\n",
      "Chicken Manchurian\n",
      "Now you have selected Chicken Manchurian and your total bill is 600Rs\n",
      "Kindly wait for half hour\n"
     ]
    }
   ],
   "source": [
    "print (\"1. Pakistani food\")\n",
    "print (\"2. chinese food\")\n",
    "\n",
    "a = input (\"Select country food: \")\n",
    "a = 2\n",
    "if a==1:\n",
    "    print (\"pakistani food\")\n",
    "else:\n",
    "    print (\"Chinese food\")\n",
    "\n",
    "print (\"\\nWelcome to chinese food\")\n",
    "\n",
    "print (\"\\n1. Chicken Manchurian\")\n",
    "print (\"2. Chicken Shashlik\")\n",
    "print (\"3. Noodles\")\n",
    "print (\"4. Spaghetti\")\n",
    "print (\"5. Special Chinese Biryani\")\n",
    "\n",
    "b = input (\"Please select chinese food: \")\n",
    "b = 1\n",
    "if b==1:\n",
    "    print (\"Chicken Manchurian\")\n",
    "elif b==2:\n",
    "    print (\"Chicken Shashlik\")\n",
    "elif b==3:\n",
    "    print (\"Noodles\")\n",
    "elif b==4:\n",
    "    print (\"Spaghetti\")\n",
    "elif b==5:\n",
    "    print (\"Special Chinese Biryani\")\n",
    "    \n",
    "c = 1\n",
    "if c==1:\n",
    "    print(\"Now you have selected Chicken Manchurian and your total bill is 600Rs\")\n",
    "elif c==2:\n",
    "    print(\"Now you have selected Chicken Shashlik and your total bill is 500Rs\")\n",
    "elif c==3:\n",
    "    print(\"Now you have selected Noodles and your total bill is 400Rs\")\n",
    "elif c==4:\n",
    "    print(\"Now you have selected Spaghetti and your total bill is 550Rs\")    \n",
    "elif c==5:\n",
    "    print(\"Now you have selected Special Chinese Biryani and your total bill is 300Rs\")    \n",
    "    \n",
    "print (\"Kindly wait for half hour\")"
   ]
  },
  {
   "cell_type": "code",
   "execution_count": null,
   "id": "8d05916f",
   "metadata": {},
   "outputs": [],
   "source": []
  }
 ],
 "metadata": {
  "kernelspec": {
   "display_name": "Python 3 (ipykernel)",
   "language": "python",
   "name": "python3"
  },
  "language_info": {
   "codemirror_mode": {
    "name": "ipython",
    "version": 3
   },
   "file_extension": ".py",
   "mimetype": "text/x-python",
   "name": "python",
   "nbconvert_exporter": "python",
   "pygments_lexer": "ipython3",
   "version": "3.9.7"
  }
 },
 "nbformat": 4,
 "nbformat_minor": 5
}
