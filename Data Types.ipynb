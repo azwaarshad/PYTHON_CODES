{
 "cells": [
  {
   "cell_type": "markdown",
   "id": "3fa6b184",
   "metadata": {},
   "source": [
    "# LISTS"
   ]
  },
  {
   "cell_type": "markdown",
   "id": "957b34ae",
   "metadata": {},
   "source": [
    "## SYNTAX:\n",
    "      Varuable = [ ] ------->  Empty list"
   ]
  },
  {
   "cell_type": "code",
   "execution_count": 1,
   "id": "c79b440f",
   "metadata": {},
   "outputs": [
    {
     "name": "stdout",
     "output_type": "stream",
     "text": [
      "['Azwa', 18, 20.5, True, (3+3j)]\n"
     ]
    }
   ],
   "source": [
    "List_1 = [\"Azwa\", 18, 20.5, True, 3 + 3j]\n",
    "print(List_1)"
   ]
  },
  {
   "cell_type": "markdown",
   "id": "f7648c5e",
   "metadata": {},
   "source": [
    "### Indexing in list"
   ]
  },
  {
   "cell_type": "code",
   "execution_count": 10,
   "id": "6b80ec2f",
   "metadata": {},
   "outputs": [
    {
     "name": "stdout",
     "output_type": "stream",
     "text": [
      "['Azwa', 18, 20.5, True, (3+3j), 'Arshad', 20]\n"
     ]
    }
   ],
   "source": [
    "List_2 = [\"Azwa\", 18, 20.5, True, (3 + 3j), \"Arshad\", 20]\n",
    "print(List_2)"
   ]
  },
  {
   "cell_type": "code",
   "execution_count": 8,
   "id": "05105f1c",
   "metadata": {},
   "outputs": [
    {
     "name": "stdout",
     "output_type": "stream",
     "text": [
      "True\n"
     ]
    }
   ],
   "source": [
    "print(List_2[3])"
   ]
  },
  {
   "cell_type": "code",
   "execution_count": 9,
   "id": "a85eaa58",
   "metadata": {},
   "outputs": [
    {
     "name": "stdout",
     "output_type": "stream",
     "text": [
      "Arshad\n"
     ]
    }
   ],
   "source": [
    "print(List_2[5])"
   ]
  },
  {
   "cell_type": "code",
   "execution_count": 11,
   "id": "5ba31d7f",
   "metadata": {},
   "outputs": [
    {
     "name": "stdout",
     "output_type": "stream",
     "text": [
      "Azwa\n"
     ]
    }
   ],
   "source": [
    "print(List_2[0])"
   ]
  },
  {
   "cell_type": "markdown",
   "id": "9a7e58f2",
   "metadata": {},
   "source": [
    "### Nested List"
   ]
  },
  {
   "cell_type": "code",
   "execution_count": 12,
   "id": "2e6e25ee",
   "metadata": {},
   "outputs": [
    {
     "name": "stdout",
     "output_type": "stream",
     "text": [
      "[[1, 2, 3, 4], [5, 6, 7, 8], [9, 10, 11, 12]]\n"
     ]
    }
   ],
   "source": [
    "List_3 = [[1,2,3,4], [5,6,7,8], [9,10,11,12]]\n",
    "print(List_3)"
   ]
  },
  {
   "cell_type": "code",
   "execution_count": 13,
   "id": "7f5f866f",
   "metadata": {},
   "outputs": [
    {
     "name": "stdout",
     "output_type": "stream",
     "text": [
      "[5, 6, 7, 8]\n"
     ]
    }
   ],
   "source": [
    "print(List_3[1])"
   ]
  },
  {
   "cell_type": "code",
   "execution_count": 14,
   "id": "9760038c",
   "metadata": {},
   "outputs": [
    {
     "name": "stdout",
     "output_type": "stream",
     "text": [
      "10\n"
     ]
    }
   ],
   "source": [
    "print(List_3[2][1])"
   ]
  },
  {
   "cell_type": "code",
   "execution_count": 15,
   "id": "82b72fc0",
   "metadata": {},
   "outputs": [
    {
     "name": "stdout",
     "output_type": "stream",
     "text": [
      "4\n"
     ]
    }
   ],
   "source": [
    "print(List_3[0][3])"
   ]
  },
  {
   "cell_type": "markdown",
   "id": "0aefd09c",
   "metadata": {},
   "source": [
    "### List Constructor "
   ]
  },
  {
   "cell_type": "code",
   "execution_count": 18,
   "id": "dd5e553e",
   "metadata": {},
   "outputs": [
    {
     "name": "stdout",
     "output_type": "stream",
     "text": [
      "[1, 2, 3, 4, 5]\n"
     ]
    }
   ],
   "source": [
    "List_4 = list((1,2,3,4,5))\n",
    "print(List_4)"
   ]
  },
  {
   "cell_type": "code",
   "execution_count": 19,
   "id": "2a2aaecc",
   "metadata": {},
   "outputs": [
    {
     "name": "stdout",
     "output_type": "stream",
     "text": [
      "['P', 'Y', 'T', 'H', 'O', 'N']\n"
     ]
    }
   ],
   "source": [
    "List_5 = list((\"PYTHON\"))\n",
    "print(List_5)"
   ]
  },
  {
   "cell_type": "markdown",
   "id": "0e0c2ef9",
   "metadata": {},
   "source": [
    "### Add / Remove"
   ]
  },
  {
   "cell_type": "code",
   "execution_count": 20,
   "id": "169f9d50",
   "metadata": {},
   "outputs": [
    {
     "name": "stdout",
     "output_type": "stream",
     "text": [
      "[1, 2, 3, 4, 5, 6]\n"
     ]
    }
   ],
   "source": [
    "List_6 = [1,2,3,4,5]\n",
    "List_6.append(6)              # .append se last mein add hota h\n",
    "print(List_6)"
   ]
  },
  {
   "cell_type": "code",
   "execution_count": 22,
   "id": "967789b2",
   "metadata": {},
   "outputs": [
    {
     "name": "stdout",
     "output_type": "stream",
     "text": [
      "[1, 2, 2.2, 3, 4, 5]\n"
     ]
    }
   ],
   "source": [
    "List_7 = [1,2,3,4,5]\n",
    "List_7.insert(2,2.2)        # .insert se jo number denge uske aage add hoga\n",
    "print(List_7)"
   ]
  },
  {
   "cell_type": "code",
   "execution_count": 23,
   "id": "0f6358e8",
   "metadata": {},
   "outputs": [
    {
     "name": "stdout",
     "output_type": "stream",
     "text": [
      "['Apple', 'Mango', 'Banana', 'Kiwi']\n"
     ]
    }
   ],
   "source": [
    "List_8 = [\"Apple\", \"Mango\", \"Banana\", \"Cherry\", \"Kiwi\"]\n",
    "List_8.remove(\"Cherry\")        # .remove se jo value denge woh remove hogi\n",
    "print(List_8)"
   ]
  },
  {
   "cell_type": "code",
   "execution_count": 27,
   "id": "d356deb3",
   "metadata": {},
   "outputs": [
    {
     "name": "stdout",
     "output_type": "stream",
     "text": [
      "['Potato', 'Tomato', 'Carrot', 'Cucumber']\n"
     ]
    }
   ],
   "source": [
    "List_9 = [\"Potato\", \"Tomato\", \"Carrot\", \"Cucumber\", \"Radish\"]\n",
    "List_9.pop()            # .pop se last value remove hojaegi\n",
    "print(List_9)"
   ]
  },
  {
   "cell_type": "code",
   "execution_count": 28,
   "id": "82dae715",
   "metadata": {},
   "outputs": [
    {
     "name": "stdout",
     "output_type": "stream",
     "text": [
      "['Potato', 'Tomato', 'Cucumber']\n"
     ]
    }
   ],
   "source": [
    "List_9.pop(2)         # .pop mein argument dene se us index ki value remove hogi\n",
    "print(List_9)          "
   ]
  },
  {
   "cell_type": "code",
   "execution_count": 29,
   "id": "3ef608bf",
   "metadata": {},
   "outputs": [],
   "source": [
    "List_10  = [1,2,3,4,5,6,7,8]\n",
    "del(List_10)           #To delete a list"
   ]
  },
  {
   "cell_type": "code",
   "execution_count": 30,
   "id": "98f9e2b7",
   "metadata": {},
   "outputs": [
    {
     "name": "stdout",
     "output_type": "stream",
     "text": [
      "True\n"
     ]
    }
   ],
   "source": [
    "List = [\"Azwa\", \"Usman\", \"Kanwal\", \"Ali\"]\n",
    "if \"Azwa\" in List:\n",
    "    print(True)\n",
    "else:\n",
    "    print(\"Not found\")"
   ]
  },
  {
   "cell_type": "code",
   "execution_count": 31,
   "id": "a68bf407",
   "metadata": {},
   "outputs": [
    {
     "name": "stdout",
     "output_type": "stream",
     "text": [
      "[6, 5, 4, 3, 2, 1]\n"
     ]
    }
   ],
   "source": [
    "a = [1,2,3,4,5,6]\n",
    "a.reverse()\n",
    "print(a)"
   ]
  },
  {
   "cell_type": "code",
   "execution_count": 33,
   "id": "e7d9ce26",
   "metadata": {},
   "outputs": [
    {
     "name": "stdout",
     "output_type": "stream",
     "text": [
      "[1, 2, 3, 4, 5, 6, 7, 8, 9]\n"
     ]
    }
   ],
   "source": [
    "b = [3,5,7,9,2,4,6,1,8]\n",
    "b.sort()\n",
    "print(b)"
   ]
  },
  {
   "cell_type": "code",
   "execution_count": 34,
   "id": "cb65d65d",
   "metadata": {},
   "outputs": [
    {
     "name": "stdout",
     "output_type": "stream",
     "text": [
      "['Apple', 'Banana', 'Cherry', 'Kiwi', 'Mango']\n"
     ]
    }
   ],
   "source": [
    "c = [\"Mango\", \"Cherry\", \"Apple\", \"Banana\", \"Kiwi\"]\n",
    "c.sort()\n",
    "print(c)"
   ]
  },
  {
   "cell_type": "markdown",
   "id": "447ae188",
   "metadata": {},
   "source": [
    "# TUPLE"
   ]
  },
  {
   "cell_type": "markdown",
   "id": "1029de21",
   "metadata": {},
   "source": [
    "## SYNTAX:\n",
    "       Variable = ( )  -------->  Empty tuple"
   ]
  },
  {
   "cell_type": "code",
   "execution_count": 35,
   "id": "975945e2",
   "metadata": {},
   "outputs": [
    {
     "name": "stdout",
     "output_type": "stream",
     "text": [
      "('Azwa', 18, 20.5, True)\n"
     ]
    }
   ],
   "source": [
    "Tuple_1 = (\"Azwa\", 18, 20.5, True)\n",
    "print(Tuple_1)"
   ]
  },
  {
   "cell_type": "markdown",
   "id": "a3d6d56d",
   "metadata": {},
   "source": [
    "### Indexing"
   ]
  },
  {
   "cell_type": "code",
   "execution_count": 36,
   "id": "3ce42077",
   "metadata": {},
   "outputs": [
    {
     "name": "stdout",
     "output_type": "stream",
     "text": [
      "Banana\n"
     ]
    }
   ],
   "source": [
    "Tuple_2 = (\"Apple\", \"Mango\", \"Banana\", \"Cherry\", \"Kiwi\")\n",
    "print(Tuple_2[2])"
   ]
  },
  {
   "cell_type": "code",
   "execution_count": 37,
   "id": "f8a931b6",
   "metadata": {},
   "outputs": [
    {
     "name": "stdout",
     "output_type": "stream",
     "text": [
      "Cherry\n"
     ]
    }
   ],
   "source": [
    "print(Tuple_2[3])"
   ]
  },
  {
   "cell_type": "markdown",
   "id": "ceb27819",
   "metadata": {},
   "source": [
    "### Tuple Constructor"
   ]
  },
  {
   "cell_type": "code",
   "execution_count": 38,
   "id": "44c63a5b",
   "metadata": {},
   "outputs": [
    {
     "name": "stdout",
     "output_type": "stream",
     "text": [
      "(1, 2, 3, 4, 5, 6)\n"
     ]
    }
   ],
   "source": [
    "Tuple_3 = tuple((1,2,3,4,5,6))\n",
    "print(Tuple_3)"
   ]
  },
  {
   "cell_type": "code",
   "execution_count": 39,
   "id": "391ab7e1",
   "metadata": {},
   "outputs": [
    {
     "name": "stdout",
     "output_type": "stream",
     "text": [
      "Potato\n",
      "Tomato\n",
      "Cucumber\n",
      "Carrot\n"
     ]
    }
   ],
   "source": [
    "Tuple_4 = (\"Potato\", \"Tomato\", \"Cucumber\", \"Carrot\")\n",
    "for i in Tuple_4:\n",
    "    print(i)"
   ]
  },
  {
   "cell_type": "code",
   "execution_count": 40,
   "id": "63eaac89",
   "metadata": {},
   "outputs": [
    {
     "name": "stdout",
     "output_type": "stream",
     "text": [
      "Tomato\n"
     ]
    }
   ],
   "source": [
    "print(Tuple_4[-3])"
   ]
  },
  {
   "cell_type": "markdown",
   "id": "fc4cfdb1",
   "metadata": {},
   "source": [
    "# DICTIONARY"
   ]
  },
  {
   "cell_type": "markdown",
   "id": "9e92043b",
   "metadata": {},
   "source": [
    "## SYNTAX:  \n",
    "      Variable = {Key:Value}\n",
    "      "
   ]
  },
  {
   "cell_type": "code",
   "execution_count": 2,
   "id": "76e0f3e8",
   "metadata": {},
   "outputs": [
    {
     "name": "stdout",
     "output_type": "stream",
     "text": [
      "{'Name': 'Azwa', 'F_Name': 'Arshad', 'Age': 18, 'Roll_No': 123, 'E_Mail': 'azwaarshad1194@gmail.com'}\n"
     ]
    }
   ],
   "source": [
    "Dict_1 = {\"Name\":\"Azwa\", \"F_Name\":\"Arshad\",\"Age\":18,\"Roll_No\":123,\"E_Mail\":\"azwaarshad1194@gmail.com\"}\n",
    "print(Dict_1)"
   ]
  },
  {
   "cell_type": "code",
   "execution_count": 3,
   "id": "7e667ea4",
   "metadata": {},
   "outputs": [
    {
     "name": "stdout",
     "output_type": "stream",
     "text": [
      "{1: 'One', 2: 'Two', 3: 'Three', 4: 'Four', 5: 'Five'}\n"
     ]
    }
   ],
   "source": [
    "Dict_2 = {1:\"One\", 2:\"Two\", 3:\"Three\", 4:\"Four\", 5:\"Five\"}          #Integers as keys\n",
    "print(Dict_2)"
   ]
  },
  {
   "cell_type": "code",
   "execution_count": 7,
   "id": "20ef17dc",
   "metadata": {},
   "outputs": [
    {
     "name": "stdout",
     "output_type": "stream",
     "text": [
      "{'List': [1, 2, 3, 4, 5], 'Tuple': (6, 7, 8, 9, 10), 'Set': {50, 20, 40, 10, 30}}\n"
     ]
    }
   ],
   "source": [
    "Dict_3 = {\"List\":[1,2,3,4,5], \"Tuple\":(6,7,8,9,10), \"Set\": {10,20,30,40,50}}         #Dicionary with data tpes\n",
    "print(Dict_3)"
   ]
  },
  {
   "cell_type": "code",
   "execution_count": 8,
   "id": "c99860fb",
   "metadata": {},
   "outputs": [
    {
     "name": "stdout",
     "output_type": "stream",
     "text": [
      "{1: 'One', 2: 'Two', 3: 'three', 4: 'Four'}\n"
     ]
    }
   ],
   "source": [
    "Dict_4 = {1:\"one\", 2:\"Two\", 1:\"One\", 3:\"Three\", 4:\"Four\", 3:\"three\"}      #Duplicate keys mein baad wali print hogi\n",
    "print(Dict_4)"
   ]
  },
  {
   "cell_type": "markdown",
   "id": "f07b6f5a",
   "metadata": {},
   "source": [
    "### .Keys\n",
    "    It will give keys only."
   ]
  },
  {
   "cell_type": "code",
   "execution_count": 9,
   "id": "939d864f",
   "metadata": {},
   "outputs": [
    {
     "name": "stdout",
     "output_type": "stream",
     "text": [
      "dict_keys(['Fruit_1', 'Fruit_2', 'Fruit_3', 'Fruit_4', 'Fruit_5'])\n"
     ]
    }
   ],
   "source": [
    "Dict_5 = {\"Fruit_1\":\"Apple\", \"Fruit_2\":\"Banana\", \"Fruit_3\":\"Cherry\", \"Fruit_4\":\"Kiwi\", \"Fruit_5\":\"Mango\"}\n",
    "print(Dict_5.keys())"
   ]
  },
  {
   "cell_type": "markdown",
   "id": "dc05cb24",
   "metadata": {},
   "source": [
    "### .Values\n",
    "     It will print values only."
   ]
  },
  {
   "cell_type": "code",
   "execution_count": 10,
   "id": "f561b2f2",
   "metadata": {},
   "outputs": [
    {
     "name": "stdout",
     "output_type": "stream",
     "text": [
      "dict_values(['Apple', 'Banana', 'Cherry', 'Kiwi', 'Mango'])\n"
     ]
    }
   ],
   "source": [
    "Dict_5 = {\"Fruit_1\":\"Apple\", \"Fruit_2\":\"Banana\", \"Fruit_3\":\"Cherry\", \"Fruit_4\":\"Kiwi\", \"Fruit_5\":\"Mango\"}\n",
    "print(Dict_5.values())"
   ]
  },
  {
   "cell_type": "markdown",
   "id": "71311e85",
   "metadata": {},
   "source": [
    "### .Items\n",
    "     It will print keys and values both."
   ]
  },
  {
   "cell_type": "code",
   "execution_count": 11,
   "id": "0cf2f721",
   "metadata": {},
   "outputs": [
    {
     "name": "stdout",
     "output_type": "stream",
     "text": [
      "dict_items([('Fruit_1', 'Apple'), ('Fruit_2', 'Banana'), ('Fruit_3', 'Cherry'), ('Fruit_4', 'Kiwi'), ('Fruit_5', 'Mango')])\n"
     ]
    }
   ],
   "source": [
    "Dict_5 = {\"Fruit_1\":\"Apple\", \"Fruit_2\":\"Banana\", \"Fruit_3\":\"Cherry\", \"Fruit_4\":\"Kiwi\", \"Fruit_5\":\"Mango\"}\n",
    "print(Dict_5.items())"
   ]
  },
  {
   "cell_type": "code",
   "execution_count": 12,
   "id": "c7c5ecb6",
   "metadata": {},
   "outputs": [
    {
     "name": "stdout",
     "output_type": "stream",
     "text": [
      "12345\n",
      "45678\n",
      "234234\n",
      "234234\n",
      "234525\n",
      "234234\n",
      "34234\n"
     ]
    }
   ],
   "source": [
    "Dict_6 = {\"Ali\":12345,\"Faran\":45678,\"Taha\":234234,\"Zeeshan\":234234,\"Kaleem\":234525,\"Asif\":234234,\"Faizan\":34234}\n",
    "for i in Dict_6.values():\n",
    "    print(i)"
   ]
  },
  {
   "cell_type": "code",
   "execution_count": 13,
   "id": "890fdabe",
   "metadata": {},
   "outputs": [
    {
     "name": "stdout",
     "output_type": "stream",
     "text": [
      "12345\n",
      "234234\n"
     ]
    }
   ],
   "source": [
    "Dict_6 = {\"Ali\":12345,\"Faran\":45678,\"Taha\":234234,\"Zeeshan\":234234,\"Kaleem\":234525,\"Asif\":234234,\"Faizan\":34234}\n",
    "print(Dict_6[\"Ali\"])\n",
    "print(Dict_6[\"Taha\"])"
   ]
  },
  {
   "cell_type": "code",
   "execution_count": 14,
   "id": "32e7cbbc",
   "metadata": {},
   "outputs": [
    {
     "name": "stdout",
     "output_type": "stream",
     "text": [
      "234234\n",
      "{'Name': 'Raheel', 'id': ['PK', 'karachi']}\n",
      "Raheel\n",
      "['PK', 'karachi']\n",
      "karachi\n"
     ]
    }
   ],
   "source": [
    "Dict_7 = {\"Ali\":12345,\"Faran\":45678,\"Taha\":234234,\"Id_1\":{\"Name\":\"Raheel\",\"id\":['PK','karachi']}}\n",
    "\n",
    "print(Dict_7[\"Taha\"])\n",
    "print(Dict_7[\"Id_1\"])\n",
    "print(Dict_7[\"Id_1\"][\"Name\"])\n",
    "print(Dict_7[\"Id_1\"][\"id\"])\n",
    "print(Dict_7[\"Id_1\"][\"id\"][1])"
   ]
  },
  {
   "cell_type": "markdown",
   "id": "e2b468fa",
   "metadata": {},
   "source": [
    "### .fromkeys( )"
   ]
  },
  {
   "cell_type": "code",
   "execution_count": 15,
   "id": "14b25168",
   "metadata": {},
   "outputs": [
    {
     "name": "stdout",
     "output_type": "stream",
     "text": [
      "{'a': [10, 'value', 'items'], 'b': [10, 'value', 'items'], 'c': [10, 'value', 'items'], 'd': [10, 'value', 'items']}\n"
     ]
    }
   ],
   "source": [
    "Keys = {'a' , 'b' , 'c' , 'd'}\n",
    "Values = [10,'value']\n",
    "Values.append('items')\n",
    "Dict_8 = dict.fromkeys(Keys,Values)\n",
    "print(Dict_8)"
   ]
  },
  {
   "cell_type": "markdown",
   "id": "2f296eb9",
   "metadata": {},
   "source": [
    "### Dictionary Constructor"
   ]
  },
  {
   "cell_type": "code",
   "execution_count": 19,
   "id": "fdf4bf14",
   "metadata": {},
   "outputs": [
    {
     "name": "stdout",
     "output_type": "stream",
     "text": [
      "{'One': 1, 'Two': 2, 'Three': 3, 'Four': 4, 'Five': 5}\n",
      "{'Name': 'Azwa', 'Age': 18, 'Country': 'Pakistan'}\n"
     ]
    }
   ],
   "source": [
    "Dict_9 = dict({\"One\":1, \"Two\":2, \"Three\":3, \"Four\":4, \"Five\":5})\n",
    "Dict_10 = dict(Name = \"Azwa\", Age = 18, Country = \"Pakistan\")\n",
    "print(Dict_9)\n",
    "print(Dict_10)"
   ]
  },
  {
   "cell_type": "code",
   "execution_count": null,
   "id": "2d776d13",
   "metadata": {},
   "outputs": [],
   "source": []
  }
 ],
 "metadata": {
  "kernelspec": {
   "display_name": "Python 3 (ipykernel)",
   "language": "python",
   "name": "python3"
  },
  "language_info": {
   "codemirror_mode": {
    "name": "ipython",
    "version": 3
   },
   "file_extension": ".py",
   "mimetype": "text/x-python",
   "name": "python",
   "nbconvert_exporter": "python",
   "pygments_lexer": "ipython3",
   "version": "3.9.7"
  }
 },
 "nbformat": 4,
 "nbformat_minor": 5
}
