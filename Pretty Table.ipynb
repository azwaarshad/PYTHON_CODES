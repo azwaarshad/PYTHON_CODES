{
 "cells": [
  {
   "cell_type": "code",
   "execution_count": 1,
   "id": "85eac26c",
   "metadata": {},
   "outputs": [
    {
     "name": "stdout",
     "output_type": "stream",
     "text": [
      "+-----------+------+------------+-----------------+\n",
      "| City name | Area | Population | Annual Rainfall |\n",
      "+-----------+------+------------+-----------------+\n",
      "|  Adelaide | 1295 |   45454    |      600.5      |\n",
      "+-----------+------+------------+-----------------+\n"
     ]
    }
   ],
   "source": [
    "from prettytable import PrettyTable\n",
    "X = PrettyTable()\n",
    "X.field_names=[\"City name\", \"Area\",\"Population\", \"Annual Rainfall\"]\n",
    "X.add_row([\"Adelaide\", 1295, 45454, 600.5])\n",
    "print(X)"
   ]
  },
  {
   "cell_type": "code",
   "execution_count": 2,
   "id": "5623d50b",
   "metadata": {},
   "outputs": [
    {
     "name": "stdout",
     "output_type": "stream",
     "text": [
      " City Name\n",
      " Population\n",
      " Adelaide\n",
      " 45454\n",
      " New York\n",
      " 34343\n",
      " Washington DC\n",
      " 23232\n",
      "+---------------+------------+\n",
      "|   City Name   | Population |\n",
      "+---------------+------------+\n",
      "|    Adelaide   |   45454    |\n",
      "|    New York   |   34343    |\n",
      "| Washington DC |   23232    |\n",
      "+---------------+------------+\n"
     ]
    }
   ],
   "source": [
    "from prettytable import PrettyTable\n",
    "A = PrettyTable()\n",
    "A.field_names=[input(\" \"), input(\" \")]\n",
    "A.add_row([input(\" \"), input(\" \")])\n",
    "A.add_row([input(\" \"), input(\" \")])\n",
    "A.add_row([input(\" \"), input(\" \")])\n",
    "print(A)"
   ]
  },
  {
   "cell_type": "code",
   "execution_count": 3,
   "id": "90e2092f",
   "metadata": {},
   "outputs": [
    {
     "name": "stdout",
     "output_type": "stream",
     "text": [
      " City Name\n",
      " Population\n",
      "1: Adelaide\n",
      "2: 45454\n",
      "3: New York\n",
      "4: 34343\n",
      "5: Washington DC \n",
      "6: 23232\n",
      "+----------------+------------+\n",
      "|   City Name    | Population |\n",
      "+----------------+------------+\n",
      "|    Adelaide    |   45454    |\n",
      "|    New York    |   34343    |\n",
      "| Washington DC  |   23232    |\n",
      "+----------------+------------+\n"
     ]
    }
   ],
   "source": [
    "from prettytable import PrettyTable\n",
    "A = PrettyTable()\n",
    "A.field_names=[input(\" \"), input(\" \")]\n",
    "A.add_row([input(\"1: \"), input(\"2: \")])\n",
    "A.add_row([input(\"3: \"), input(\"4: \")])\n",
    "A.add_row([input(\"5: \"), input(\"6: \")])\n",
    "print(A)"
   ]
  },
  {
   "cell_type": "code",
   "execution_count": 8,
   "id": "96ec5dcd",
   "metadata": {},
   "outputs": [
    {
     "name": "stdout",
     "output_type": "stream",
     "text": [
      " medicines\n",
      " price\n",
      "2: 100\n",
      "1: panadol\n",
      "4: 170\n",
      "3: brufen\n",
      "5: Total\n",
      "+-----------+-------+\n",
      "| medicines | price |\n",
      "+-----------+-------+\n",
      "|  panadol  |  100  |\n",
      "|   brufen  |  170  |\n",
      "|   Total   |  270  |\n",
      "+-----------+-------+\n"
     ]
    }
   ],
   "source": [
    "from prettytable import PrettyTable\n",
    "A = PrettyTable()\n",
    "A.field_names=[input(\" \"), input(\" \")]\n",
    "B = int(input(\"2: \"))\n",
    "A.add_row([input(\"1: \"), B])\n",
    "C = int(input(\"4: \"))\n",
    "A.add_row([input(\"3: \"), C])\n",
    "total = B+C\n",
    "A.add_row([input(\"5: \"), total])\n",
    "print(A)\n"
   ]
  },
  {
   "cell_type": "code",
   "execution_count": null,
   "id": "d90affec",
   "metadata": {},
   "outputs": [],
   "source": []
  }
 ],
 "metadata": {
  "kernelspec": {
   "display_name": "Python 3 (ipykernel)",
   "language": "python",
   "name": "python3"
  },
  "language_info": {
   "codemirror_mode": {
    "name": "ipython",
    "version": 3
   },
   "file_extension": ".py",
   "mimetype": "text/x-python",
   "name": "python",
   "nbconvert_exporter": "python",
   "pygments_lexer": "ipython3",
   "version": "3.9.7"
  }
 },
 "nbformat": 4,
 "nbformat_minor": 5
}
