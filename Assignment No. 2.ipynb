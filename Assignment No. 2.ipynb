{
 "cells": [
  {
   "cell_type": "markdown",
   "id": "c29c9982",
   "metadata": {},
   "source": [
    "## ASSIGNMENT NO. 2"
   ]
  },
  {
   "cell_type": "markdown",
   "id": "a8e01de4",
   "metadata": {},
   "source": [
    "## Question No. 1"
   ]
  },
  {
   "cell_type": "code",
   "execution_count": 1,
   "id": "7c7fbf76",
   "metadata": {},
   "outputs": [
    {
     "name": "stdout",
     "output_type": "stream",
     "text": [
      "Hello! \n",
      "This is python programming.\n",
      "Python version is 3.10.\n",
      "This is multiline string.\n"
     ]
    }
   ],
   "source": [
    "a = (\"\"\"Hello! \n",
    "This is python programming.\n",
    "Python version is 3.10.\n",
    "This is multiline string.\"\"\")\n",
    "print (a)"
   ]
  },
  {
   "cell_type": "markdown",
   "id": "52536f1c",
   "metadata": {},
   "source": [
    "## Question no. 2"
   ]
  },
  {
   "cell_type": "code",
   "execution_count": 2,
   "id": "df45693f",
   "metadata": {},
   "outputs": [
    {
     "name": "stdout",
     "output_type": "stream",
     "text": [
      "Pakistan\n",
      "<class 'str'>\n",
      "2022\n",
      "<class 'int'>\n",
      "3.142\n",
      "<class 'float'>\n"
     ]
    }
   ],
   "source": [
    "x = \"Pakistan\"\n",
    "print (x)\n",
    "print (type(x))\n",
    "y = (2022)\n",
    "print (y)\n",
    "print (type(y))\n",
    "z = (3.142)\n",
    "print (z)\n",
    "print (type(z))"
   ]
  },
  {
   "cell_type": "markdown",
   "id": "e5957a02",
   "metadata": {},
   "source": [
    "## Question No. 3"
   ]
  },
  {
   "cell_type": "code",
   "execution_count": 3,
   "id": "936ea2bb",
   "metadata": {},
   "outputs": [
    {
     "name": "stdout",
     "output_type": "stream",
     "text": [
      "The temperature of Karachi is 35 degree centigrade.\n",
      "The temperature of Lahore is 30 degree centigrade.\n",
      "The temperature of Islamabad is 25 degree centigrade.\n"
     ]
    }
   ],
   "source": [
    "city1 = \"Karachi\"\n",
    "city2 = \"Lahore\"\n",
    "city3 = \"Islamabad\"\n",
    "city1_temp = \"35\"\n",
    "city2_temp = \"30\"\n",
    "city3_temp = \"25\"\n",
    "print (\"The temperature of \"+city1+\" is \"+city1_temp+\" degree centigrade.\")\n",
    "print (\"The temperature of \"+city2+\" is \"+city2_temp+\" degree centigrade.\")\n",
    "print (\"The temperature of \"+city3+\" is \"+city3_temp+\" degree centigrade.\")"
   ]
  },
  {
   "cell_type": "markdown",
   "id": "e3a318ad",
   "metadata": {},
   "source": [
    "## Question No. 4"
   ]
  },
  {
   "cell_type": "code",
   "execution_count": 4,
   "id": "81c7b9c4",
   "metadata": {},
   "outputs": [
    {
     "name": "stdout",
     "output_type": "stream",
     "text": [
      "Avocado is available in list\n",
      "Berry is not available in list\n"
     ]
    }
   ],
   "source": [
    "fruits = [\"apple\", \"cherry\", \"banana\", \"avocado\", \"mango\"]\n",
    "if \"avocado\" in fruits:\n",
    "    print (\"Avocado is available in list\")\n",
    "else: \n",
    "    print (\"Avocado is not available in list\")\n",
    "    \n",
    "if \"berry\" in fruits:\n",
    "    print (\"Berry is available in list\")\n",
    "else:\n",
    "    print (\"Berry is not available in list\")"
   ]
  },
  {
   "cell_type": "markdown",
   "id": "acf663c3",
   "metadata": {},
   "source": [
    "## Question no. 5"
   ]
  },
  {
   "cell_type": "code",
   "execution_count": 5,
   "id": "fe95901d",
   "metadata": {},
   "outputs": [
    {
     "name": "stdout",
     "output_type": "stream",
     "text": [
      "Guess a number from 0 to 9: 2\n",
      "Guess a number from 0 to 9: 6\n",
      "Guess a number from 0 to 9: 5\n",
      "Guess a number from 0 to 9: 7\n",
      "Guess a number from 0 to 9: 9\n",
      "Well guessed!\n"
     ]
    }
   ],
   "source": [
    "import random\n",
    "a = random.randint(1,10)\n",
    "x = 0\n",
    "while a !=x:\n",
    "    x = int(input(\"Guess a number from 0 to 9: \"))\n",
    "print (\"Well guessed!\")    "
   ]
  },
  {
   "cell_type": "markdown",
   "id": "bb7625ab",
   "metadata": {},
   "source": [
    "## Question no. 6"
   ]
  },
  {
   "cell_type": "code",
   "execution_count": 6,
   "id": "12d85a82",
   "metadata": {},
   "outputs": [
    {
     "name": "stdout",
     "output_type": "stream",
     "text": [
      "Enter Name: Azwa\n",
      "Enter Father Name: Arshad\n",
      "Enter Roll Number: 20\n",
      "Enter Marks of English: 90\n",
      "Enter Marks of Computer: 85\n",
      "Enter Marks of Chemistry: 92\n",
      "Enter Marks of Physics: 88\n",
      "Enter Marks of Mathematics: 95\n",
      "Total Marks:  450  out of 500\n",
      "Your grade is A+\n"
     ]
    }
   ],
   "source": [
    "Name = (input(\"Enter Name: \"))\n",
    "F_Name = (input(\"Enter Father Name: \"))\n",
    "Roll_No = (input(\"Enter Roll Number: \"))\n",
    "Eng = int(input(\"Enter Marks of English: \"))\n",
    "Comp = int(input(\"Enter Marks of Computer: \"))\n",
    "Chem = int(input(\"Enter Marks of Chemistry: \"))\n",
    "Phy = int(input(\"Enter Marks of Physics: \"))\n",
    "Maths = int(input(\"Enter Marks of Mathematics: \"))\n",
    "Total = Eng+Comp+Chem+Phy+Maths\n",
    "print (\"Total Marks: \",Total,\" out of 500\")\n",
    "avg = (Eng+Comp+Phy+Chem+Maths)/5\n",
    "avg = int(avg)\n",
    "if avg>=81 and avg<+100:\n",
    "    print(\"Your grade is A+\")\n",
    "elif avg>=71 and avg<=80:\n",
    "    print(\"Your grade is A\")\n",
    "elif avg>=61 and avg<=70:\n",
    "    print(\"Your grade is B\")\n",
    "elif avg>=51 and avg<=60:\n",
    "    print(\"Your grade is C\")\n",
    "elif avg>=41 and avg<=50:\n",
    "    print(\"Your grade is D\")\n",
    "else:\n",
    "    print(\"Sorry! Yoy are fail\")\n",
    "    \n",
    "    "
   ]
  },
  {
   "cell_type": "markdown",
   "id": "80c42bed",
   "metadata": {},
   "source": [
    "## Question No. 7"
   ]
  },
  {
   "cell_type": "code",
   "execution_count": 7,
   "id": "3cce6cd5",
   "metadata": {},
   "outputs": [
    {
     "name": "stdout",
     "output_type": "stream",
     "text": [
      "Enter number 1: 40\n",
      "Enter number 2: 8\n",
      "addition 48\n",
      "subtraction 32\n",
      "multiplication 320\n",
      "division 5.0\n"
     ]
    }
   ],
   "source": [
    "x = int(input(\"Enter number 1: \"))\n",
    "y = int(input(\"Enter number 2: \"))\n",
    "a = x+y\n",
    "b = x-y\n",
    "c = x*y\n",
    "d = x/y\n",
    "print (\"addition\", a)\n",
    "print (\"subtraction\", b)\n",
    "print (\"multiplication\", c)\n",
    "print (\"division\", d)"
   ]
  },
  {
   "cell_type": "markdown",
   "id": "5096f342",
   "metadata": {},
   "source": [
    "## Question No. 8"
   ]
  },
  {
   "cell_type": "code",
   "execution_count": 8,
   "id": "33f0c3c1",
   "metadata": {},
   "outputs": [
    {
     "name": "stdout",
     "output_type": "stream",
     "text": [
      "Table of 4\n",
      "4 x 1 = 4\n",
      "4 x 2 = 8\n",
      "4 x 3 = 12\n",
      "4 x 4 = 16\n",
      "4 x 5 = 20\n",
      "4 x 6 = 24\n",
      "4 x 7 = 28\n",
      "4 x 8 = 32\n",
      "4 x 9 = 36\n",
      "4 x 10 = 40\n"
     ]
    }
   ],
   "source": [
    "a = int(input(\"Table of \"))\n",
    "for i in range(1,11):\n",
    "    print(a,\"x\",i,\"=\",a*i)\n",
    "    "
   ]
  },
  {
   "cell_type": "markdown",
   "id": "7e16689b",
   "metadata": {},
   "source": [
    "# By: Azwa Arshad"
   ]
  },
  {
   "cell_type": "code",
   "execution_count": null,
   "id": "d8658db5",
   "metadata": {},
   "outputs": [],
   "source": []
  }
 ],
 "metadata": {
  "kernelspec": {
   "display_name": "Python 3 (ipykernel)",
   "language": "python",
   "name": "python3"
  },
  "language_info": {
   "codemirror_mode": {
    "name": "ipython",
    "version": 3
   },
   "file_extension": ".py",
   "mimetype": "text/x-python",
   "name": "python",
   "nbconvert_exporter": "python",
   "pygments_lexer": "ipython3",
   "version": "3.9.7"
  }
 },
 "nbformat": 4,
 "nbformat_minor": 5
}
