{
 "cells": [
  {
   "cell_type": "markdown",
   "id": "ff0b86d8",
   "metadata": {},
   "source": [
    "## LAB TASK 1"
   ]
  },
  {
   "cell_type": "markdown",
   "id": "72093864",
   "metadata": {},
   "source": [
    "## Ride App"
   ]
  },
  {
   "cell_type": "code",
   "execution_count": 6,
   "id": "0ddc75b6",
   "metadata": {},
   "outputs": [
    {
     "name": "stdout",
     "output_type": "stream",
     "text": [
      "Enter username: Azwa\n",
      "Create password: 1234\n",
      "\n",
      "Welcome Azwa\n",
      "\n",
      "1.Bike\n",
      "2.Car\n",
      "3.A.C Car\n",
      "4.Auto Rikshaw\n",
      "Please select any ride: 2\n",
      "Now you have selected: 2\n",
      "Car\n",
      "\n",
      "1.M.A Jinnah university\n",
      "2.Karachi university\n",
      "3.sir Syed University\n",
      "4.Ilma University\n",
      "please select any area: 3\n",
      "Now you have selected: 3\n",
      "Sir Syed University\n",
      "\n",
      "Azwa\n",
      "Your ride is Car and your destiny is Sir Syed University\n",
      "Your total ride amount is 400Rs\n"
     ]
    }
   ],
   "source": [
    "input (\"Enter username: \")\n",
    "input (\"Create password: \")\n",
    "\n",
    "print (input(\"\\nWelcome Azwa\")\n",
    "\n",
    "print (\"\\n1.Bike\")\n",
    "print (\"2.Car\")\n",
    "print (\"3.A.C Car\")\n",
    "print (\"4.Auto Rikshaw\")\n",
    "\n",
    "a = input (\"Please select any ride: \")\n",
    "a = 2\n",
    "    \n",
    "b = input (\"Now you have selected: \")\n",
    "b = 2\n",
    "if b==1:\n",
    "    print (\"Bike\")\n",
    "elif b==2:\n",
    "    print (\"Car\")\n",
    "elif b==3:\n",
    "    print (\"A.C Car\")\n",
    "else:\n",
    "    print (\"Auto Rikshaw\") \n",
    "    \n",
    "print (\"\\n1.M.A Jinnah university\")\n",
    "print (\"2.Karachi university\")\n",
    "print (\"3.sir Syed University\")\n",
    "print (\"4.Ilma University\")\n",
    "\n",
    "c = input (\"please select any area: \")\n",
    "c = 3\n",
    "    \n",
    "d = input (\"Now you have selected: \")\n",
    "d = 3\n",
    "if d==1:\n",
    "    print (\"M.A Jinnah University\")\n",
    "elif d==2:\n",
    "    print (\"Karachi University\")\n",
    "elif d==3:\n",
    "    print (\"Sir Syed University\")\n",
    "else:\n",
    "    print (\"Ilma University\")\n",
    "\n",
    "print (\"\\nAzwa\")\n",
    "a = 7\n",
    "if a==1:\n",
    "    print(\"Your ride is Bike and your destiny is M.A Jinnah university\")\n",
    "elif a==2:\n",
    "    print(\"Your ride is Bike and your destiny is Karachi University\")\n",
    "elif a==3:\n",
    "    print(\"Your ride is Bike and your destiny is Sir Syed University\")\n",
    "elif a==4:\n",
    "    print(\"Your ride is Bike and your destiny is Ilma University\")\n",
    "elif a==5:\n",
    "    print(\"Your ride is Car and your destiny is M.A Jinnah University\")\n",
    "elif a==6:\n",
    "    print(\"Your ride is Car and your destiny is Karachi University\")\n",
    "elif a==7:\n",
    "    print(\"Your ride is Car and your destiny is Sir Syed University\")\n",
    "elif a==8:\n",
    "    print(\"Your ride is Car and your destiny is Ilma University\")  \n",
    "elif a==9:\n",
    "    print(\"Your ride is A.C Car and your destiny is M.A Jinnah University\")\n",
    "elif a==10:\n",
    "    print(\"Your ride is A.C Car and your destiny is Karachi University\")\n",
    "elif a==11:\n",
    "    print(\"Your ride is A.C Car and your destiny is Sir Syed University\")\n",
    "elif a==12:\n",
    "    print(\"Your ride is A.C Car and your destiny is Ilma University\")        \n",
    "elif a==13:\n",
    "    print(\"Your ride is Auto Rikshaw and your destiny is M.A Jinnah University\")\n",
    "elif a==14:\n",
    "    print(\"Your ride is Auto Rikshaw and your destiny is Karachi University\")\n",
    "elif a==15:\n",
    "    print(\"Your ride is Auto Rikshaw and your destiny is Sir Syed University\")\n",
    "elif a==16:\n",
    "    print(\"Your ride is Auto Rikshaw and your destiny is Ilma University\")            \n",
    "    \n",
    "print (\"Your total ride amount is 400Rs\")\n"
   ]
  },
  {
   "cell_type": "code",
   "execution_count": null,
   "id": "f167dc40",
   "metadata": {},
   "outputs": [],
   "source": []
  }
 ],
 "metadata": {
  "kernelspec": {
   "display_name": "Python 3 (ipykernel)",
   "language": "python",
   "name": "python3"
  },
  "language_info": {
   "codemirror_mode": {
    "name": "ipython",
    "version": 3
   },
   "file_extension": ".py",
   "mimetype": "text/x-python",
   "name": "python",
   "nbconvert_exporter": "python",
   "pygments_lexer": "ipython3",
   "version": "3.9.7"
  }
 },
 "nbformat": 4,
 "nbformat_minor": 5
}
