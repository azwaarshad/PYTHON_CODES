{
 "cells": [
  {
   "cell_type": "markdown",
   "id": "651c305a",
   "metadata": {},
   "source": [
    "# LAB TASK 2"
   ]
  },
  {
   "cell_type": "markdown",
   "id": "1408069a",
   "metadata": {},
   "source": [
    "## QUESTION NO. 2"
   ]
  },
  {
   "cell_type": "code",
   "execution_count": 3,
   "id": "a777b636",
   "metadata": {},
   "outputs": [
    {
     "name": "stdout",
     "output_type": "stream",
     "text": [
      "Enter a Letter: U\n",
      "U is a Vowel\n"
     ]
    }
   ],
   "source": [
    "Alphabet = input(\"Enter a Letter: \")\n",
    "if Alphabet==\"A\":\n",
    "    print(\"A is a Vowel\")\n",
    "elif Alphabet==\"a\":\n",
    "    print(\"a is a Vowel\")\n",
    "elif Alphabet==\"E\":\n",
    "    print(\"E is a Vowel\")\n",
    "elif Alphabet==\"e\":\n",
    "    print(\"e is a Vowel\")\n",
    "elif Alphabet==\"I\":\n",
    "    print(\"I is a Vowel\")\n",
    "elif Alphabet==\"i\":\n",
    "    print(\"i is a Vowel\")\n",
    "elif Alphabet==\"O\":\n",
    "    print(\"O is a Vowel\")    \n",
    "elif Alphabet==\"o\":\n",
    "    print(\"o is a Vowel\") \n",
    "elif Alphabet==\"U\":\n",
    "    print(\"U is a Vowel\") \n",
    "elif Alphabet==\"u\":\n",
    "    print(\"u is a Vowel\")     \n",
    "else:\n",
    "    print(Alphabet, \"is a consonant\")"
   ]
  },
  {
   "cell_type": "markdown",
   "id": "acf8d661",
   "metadata": {},
   "source": [
    "## QUESTION NO. 1"
   ]
  },
  {
   "cell_type": "code",
   "execution_count": 8,
   "id": "65c787e7",
   "metadata": {},
   "outputs": [
    {
     "name": "stdout",
     "output_type": "stream",
     "text": [
      "Enter Name: ABC\n",
      "Enter Father Name: XYZ\n",
      "Enter Roll Number: 25\n",
      "Enter Marks of English: 90\n",
      "Enter Marks of Computer: 95\n",
      "Enter Marks of Chemistry: 98\n",
      "Enter Marks of Physics: 85\n",
      "Enter Marks of Mathematics: 92\n",
      "Total Marks:  460  out of 500\n",
      "Your Percentage is 92.0 %\n",
      "Congratulations! Your grade is A+\n"
     ]
    }
   ],
   "source": [
    "Name = (input(\"Enter Name: \"))\n",
    "F_Name = (input(\"Enter Father Name: \"))\n",
    "Roll_No = (input(\"Enter Roll Number: \"))\n",
    "Eng = int(input(\"Enter Marks of English: \"))\n",
    "Comp = int(input(\"Enter Marks of Computer: \"))\n",
    "Chem = int(input(\"Enter Marks of Chemistry: \"))\n",
    "Phy = int(input(\"Enter Marks of Physics: \"))\n",
    "Maths = int(input(\"Enter Marks of Mathematics: \"))\n",
    "\n",
    "Total = Eng+Comp+Chem+Phy+Maths\n",
    "print (\"\\n Total Marks: \",Total,\" out of 500\")\n",
    "\n",
    "Percentage = (Total/500)*100\n",
    "\n",
    "if Percentage>=81 and Percentage<=100:\n",
    "    print(\"Your Percentage is\", Percentage, \"%\")\n",
    "elif Percentage>=71 and Percentage<80:\n",
    "    print(\"Your Percentage is\", Percentage, \"%\")\n",
    "elif Percentage>=61 and Percentage<70:\n",
    "    print(\"Your Percentage is\", Percentage, \"%\")\n",
    "elif Percentage>=51 and Percentage<60:\n",
    "    print(\"Your Percentage is\", Percentage, \"%\")\n",
    "elif Percentage>=41 and Percentage<50:\n",
    "    print(\"Your Percentage is\", Percentage, \"%\")\n",
    "else:\n",
    "    print(\"Sorry! you are fail\")    \n",
    "\n",
    "avg = (Eng+Comp+Phy+Chem+Maths)/5\n",
    "avg = int(avg)\n",
    "\n",
    "if avg>=81 and avg<+100:\n",
    "    print(\"Congratulations! Your grade is A+\")\n",
    "elif avg>=71 and avg<=80:\n",
    "    print(\"Your grade is A\")\n",
    "elif avg>=61 and avg<=70:\n",
    "    print(\"Your grade is B\")\n",
    "elif avg>=51 and avg<=60:\n",
    "    print(\"Your grade is C\")\n",
    "elif avg>=41 and avg<=50:\n",
    "    print(\"Your grade is D\")\n",
    "else:\n",
    "    print(\"Sorry! You are fail\")"
   ]
  },
  {
   "cell_type": "code",
   "execution_count": null,
   "id": "108b118c",
   "metadata": {},
   "outputs": [],
   "source": []
  },
  {
   "cell_type": "code",
   "execution_count": null,
   "id": "2a543eda",
   "metadata": {},
   "outputs": [],
   "source": []
  }
 ],
 "metadata": {
  "kernelspec": {
   "display_name": "Python 3 (ipykernel)",
   "language": "python",
   "name": "python3"
  },
  "language_info": {
   "codemirror_mode": {
    "name": "ipython",
    "version": 3
   },
   "file_extension": ".py",
   "mimetype": "text/x-python",
   "name": "python",
   "nbconvert_exporter": "python",
   "pygments_lexer": "ipython3",
   "version": "3.9.7"
  }
 },
 "nbformat": 4,
 "nbformat_minor": 5
}
