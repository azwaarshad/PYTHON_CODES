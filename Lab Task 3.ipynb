{
 "cells": [
  {
   "cell_type": "markdown",
   "id": "4fe992b6",
   "metadata": {},
   "source": [
    "## LAB TASK 3"
   ]
  },
  {
   "cell_type": "markdown",
   "id": "3bec0d73",
   "metadata": {},
   "source": [
    "## Question No. 2"
   ]
  },
  {
   "cell_type": "code",
   "execution_count": 4,
   "id": "13a2b8bd",
   "metadata": {},
   "outputs": [
    {
     "name": "stdout",
     "output_type": "stream",
     "text": [
      "Enter temperature in Celsius: 30\n",
      "30.0 degree celsius is equal to 86.0 degree farhanheit\n",
      "Enter temperature in Fahrenheit: 86\n",
      "86.0 degree fahrenheit is equal to 30.0 degree celsius\n"
     ]
    }
   ],
   "source": [
    "Celsius = float(input(\"Enter temperature in Celsius: \"))  \n",
    "Fahrenheit = (Celsius * 9/5) + 32\n",
    "print(\"{0} degree celsius is equal to {1} degree farhanheit\" .format(Celsius, Fahrenheit))\n",
    "\n",
    "\n",
    "Fahrenheit = float( input(\"Enter temperature in Fahrenheit: \" ))  \n",
    "Celsius = (Fahrenheit - 32) * 5/9   \n",
    "print (\"{0} degree fahrenheit is equal to {1} degree celsius\" .format(Fahrenheit, Celsius))"
   ]
  },
  {
   "cell_type": "markdown",
   "id": "4c60dd09",
   "metadata": {},
   "source": [
    "# Questsion No. 4"
   ]
  },
  {
   "cell_type": "code",
   "execution_count": 7,
   "id": "e95e7d90",
   "metadata": {},
   "outputs": [
    {
     "name": "stdout",
     "output_type": "stream",
     "text": [
      "Enter password length: 12\n",
      "p\\+jlI{v%~#1\n"
     ]
    }
   ],
   "source": [
    "import random\n",
    "import string\n",
    "\n",
    "Length = int(input(\"Enter password length: \"))\n",
    "\n",
    "Lower = string.ascii_lowercase\n",
    "Upper = string.ascii_uppercase\n",
    "Numbers = string.digits\n",
    "Symbols = string.punctuation\n",
    "\n",
    "All = Lower + Upper + Numbers + Symbols\n",
    "\n",
    "a = random.sample(All,Length)\n",
    "Password = \"\".join(a)\n",
    "\n",
    "print(Password)"
   ]
  },
  {
   "cell_type": "code",
   "execution_count": null,
   "id": "170d7b0a",
   "metadata": {},
   "outputs": [],
   "source": []
  }
 ],
 "metadata": {
  "kernelspec": {
   "display_name": "Python 3 (ipykernel)",
   "language": "python",
   "name": "python3"
  },
  "language_info": {
   "codemirror_mode": {
    "name": "ipython",
    "version": 3
   },
   "file_extension": ".py",
   "mimetype": "text/x-python",
   "name": "python",
   "nbconvert_exporter": "python",
   "pygments_lexer": "ipython3",
   "version": "3.9.7"
  }
 },
 "nbformat": 4,
 "nbformat_minor": 5
}
