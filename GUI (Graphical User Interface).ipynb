{
 "cells": [
  {
   "cell_type": "code",
   "execution_count": 1,
   "id": "a269c851",
   "metadata": {},
   "outputs": [],
   "source": [
    "from tkinter import *\n",
    "gui = Tk()\n",
    "gui.mainloop()"
   ]
  },
  {
   "cell_type": "code",
   "execution_count": 2,
   "id": "ccb24108",
   "metadata": {},
   "outputs": [],
   "source": [
    "from tkinter import *\n",
    "gui = Tk()\n",
    "gui.title(\"First GUI\")\n",
    "gui.mainloop()"
   ]
  },
  {
   "cell_type": "code",
   "execution_count": 5,
   "id": "18425d7e",
   "metadata": {},
   "outputs": [],
   "source": [
    "from tkinter import *\n",
    "gui = Tk()\n",
    "gui.title(\"First GUI\")\n",
    "gui.geometry(\"400x400\")\n",
    "gui.mainloop()\n",
    "\n",
    "from tkinter import *\n",
    "gui = Tk()\n",
    "gui.title(\"GUI\")\n",
    "gui.geometry(\"300x300\")\n",
    "gui.mainloop()"
   ]
  },
  {
   "cell_type": "code",
   "execution_count": 9,
   "id": "cf98ed04",
   "metadata": {},
   "outputs": [],
   "source": [
    "from tkinter import *\n",
    "gui = Tk()\n",
    "gui.title(\"First GUI\")\n",
    "gui.geometry(\"100x400\")\n",
    "gui.mainloop()"
   ]
  },
  {
   "cell_type": "code",
   "execution_count": 12,
   "id": "7cde5db6",
   "metadata": {},
   "outputs": [
    {
     "name": "stdout",
     "output_type": "stream",
     "text": [
      "1st print\n"
     ]
    }
   ],
   "source": [
    "from tkinter import *\n",
    "gui = Tk()\n",
    "if __name__ == \"__main__\":\n",
    "    print(\"1st print\")\n",
    "gui.mainloop()"
   ]
  },
  {
   "cell_type": "code",
   "execution_count": 13,
   "id": "9ec730ed",
   "metadata": {},
   "outputs": [],
   "source": [
    "from tkinter import *\n",
    "gui = Tk()\n",
    "gui.title(\"First GUI\")\n",
    "gui.geometry(\"400x400\")\n",
    "gui.configure(bg=\"Black\")\n",
    "gui.mainloop()"
   ]
  },
  {
   "cell_type": "code",
   "execution_count": 1,
   "id": "9eaeef2d",
   "metadata": {},
   "outputs": [],
   "source": [
    "from tkinter import *\n",
    "gui = Tk()\n",
    "gui.title(\"First GUI\")\n",
    "gui.geometry(\"400x400\")\n",
    "gui.configure(bg=\"Gold\")\n",
    "gui.mainloop()"
   ]
  },
  {
   "cell_type": "code",
   "execution_count": 3,
   "id": "af60c569",
   "metadata": {},
   "outputs": [],
   "source": [
    "from tkinter import *\n",
    "gui = Tk()\n",
    "gui.title(\"First GUI\")\n",
    "gui.geometry(\"400x400\")\n",
    "gui.configure(bg=\"Blue\")\n",
    "btn = Button(gui, text=\"First Python Button\")\n",
    "btn.pack(side=LEFT)\n",
    "gui.mainloop()"
   ]
  },
  {
   "cell_type": "code",
   "execution_count": 4,
   "id": "62144a85",
   "metadata": {},
   "outputs": [],
   "source": [
    "from tkinter import *\n",
    "gui = Tk()\n",
    "gui.title(\"First GUI\")\n",
    "gui.geometry(\"400x400\")\n",
    "gui.configure(bg=\"Blue\")\n",
    "btn = Button(gui, text=\"First Python Button\")\n",
    "btn.pack(side=BOTTOM, pady=50)\n",
    "gui.mainloop()"
   ]
  },
  {
   "cell_type": "code",
   "execution_count": 13,
   "id": "9cc0205f",
   "metadata": {},
   "outputs": [],
   "source": [
    "from tkinter import *\n",
    "gui = Tk()\n",
    "gui.title(\"First GUI\")\n",
    "gui.geometry(\"400x400\")\n",
    "gui.configure(bg=\"Blue\")\n",
    "btn = Button(gui, text = \"First Python Button\")\n",
    "btn.grid(row=0, column=0)\n",
    "gui.mainloop()"
   ]
  },
  {
   "cell_type": "code",
   "execution_count": 15,
   "id": "d5e17ace",
   "metadata": {},
   "outputs": [],
   "source": [
    "from tkinter import *\n",
    "gui = Tk()\n",
    "gui.title(\"First GUI\")\n",
    "gui.geometry(\"400x400\")\n",
    "gui.configure(bg=\"Blue\")\n",
    "btn = Button(gui, text = \"First Python Button\")\n",
    "btn.grid(row=3, column=4)\n",
    "gui.mainloop()"
   ]
  },
  {
   "cell_type": "code",
   "execution_count": 19,
   "id": "3d8278d2",
   "metadata": {},
   "outputs": [],
   "source": [
    "from tkinter import *\n",
    "gui = Tk()\n",
    "gui.geometry(\"400x400+50+200\")\n",
    "gui.mainloop()\n",
    "\n",
    "# Is se position ik jagah fix hojati hai har baar GUI udhr hi khulegi.\n",
    "# 50 spaces x-axis se chor ke aur 200 spaces y-axis se chor ke GUI open hogi."
   ]
  },
  {
   "cell_type": "code",
   "execution_count": 21,
   "id": "1de0f796",
   "metadata": {},
   "outputs": [],
   "source": [
    "from tkinter import *\n",
    "gui = Tk()\n",
    "gui.mainloop()\n",
    "\n",
    "# Is mein GUI ki position change hoti rehti hai."
   ]
  },
  {
   "cell_type": "code",
   "execution_count": null,
   "id": "4569e7e5",
   "metadata": {},
   "outputs": [],
   "source": []
  }
 ],
 "metadata": {
  "kernelspec": {
   "display_name": "Python 3 (ipykernel)",
   "language": "python",
   "name": "python3"
  },
  "language_info": {
   "codemirror_mode": {
    "name": "ipython",
    "version": 3
   },
   "file_extension": ".py",
   "mimetype": "text/x-python",
   "name": "python",
   "nbconvert_exporter": "python",
   "pygments_lexer": "ipython3",
   "version": "3.9.7"
  }
 },
 "nbformat": 4,
 "nbformat_minor": 5
}
