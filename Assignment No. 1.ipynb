{
 "cells": [
  {
   "cell_type": "markdown",
   "id": "168eac1e",
   "metadata": {},
   "source": [
    "# ASSIGNMENT"
   ]
  },
  {
   "cell_type": "markdown",
   "id": "b90b18a8",
   "metadata": {},
   "source": [
    "# Question No. 1"
   ]
  },
  {
   "cell_type": "code",
   "execution_count": 7,
   "id": "dca6d1e4",
   "metadata": {},
   "outputs": [
    {
     "name": "stdout",
     "output_type": "stream",
     "text": [
      "Twinkle, twinkle, little star, \n",
      "\tHow I wonder what you are! \n",
      "\t\tUp above the world so high, \n",
      "\t\tLike a diamond in the sky. \n",
      "Twinkle,twinkle, little star, \n",
      "\tHow I wonder what you are\n"
     ]
    }
   ],
   "source": [
    "print (\"Twinkle, twinkle, little star, \\n\\tHow I wonder what you are! \\n\\t\\tUp above the world so high, \\n\\t\\tLike a diamond in the sky. \\nTwinkle,twinkle, little star, \\n\\tHow I wonder what you are\")\n"
   ]
  },
  {
   "cell_type": "markdown",
   "id": "df9aefd4",
   "metadata": {},
   "source": [
    "# Question No. 2"
   ]
  },
  {
   "cell_type": "code",
   "execution_count": 15,
   "id": "4ee89aab",
   "metadata": {},
   "outputs": [
    {
     "name": "stdout",
     "output_type": "stream",
     "text": [
      "Python version I am using is\n",
      "3.9.7 (default, Sep 16 2021, 16:59:28) [MSC v.1916 64 bit (AMD64)]\n"
     ]
    }
   ],
   "source": [
    "import sys\n",
    "print (\"Python version I am using is\")\n",
    "print (sys.version)"
   ]
  },
  {
   "cell_type": "markdown",
   "id": "d91a3fe9",
   "metadata": {},
   "source": [
    "# Question No. 3"
   ]
  },
  {
   "cell_type": "code",
   "execution_count": 16,
   "id": "79c5bae3",
   "metadata": {},
   "outputs": [
    {
     "name": "stdout",
     "output_type": "stream",
     "text": [
      "Current date and time\n",
      "2022-04-20 22:48:24.488976\n"
     ]
    }
   ],
   "source": [
    "from datetime import datetime\n",
    "a = datetime.now()\n",
    "print (\"Current date and time\")\n",
    "print (a)"
   ]
  },
  {
   "cell_type": "markdown",
   "id": "88e9e48e",
   "metadata": {},
   "source": [
    "# Question No. 4"
   ]
  },
  {
   "cell_type": "code",
   "execution_count": 5,
   "id": "2b0499ab",
   "metadata": {},
   "outputs": [
    {
     "name": "stdout",
     "output_type": "stream",
     "text": [
      "Radius of the circle: 1.1\n",
      "radius 1.1\n",
      "Area 3.8018200000000006\n"
     ]
    }
   ],
   "source": [
    "r = float(input(\"Radius of the circle: \"))\n",
    "area = 3.142 * r * r\n",
    "print (\"radius\", r)\n",
    "print (\"Area\", area)\n"
   ]
  },
  {
   "cell_type": "markdown",
   "id": "5a845685",
   "metadata": {},
   "source": [
    "# Question No. 5"
   ]
  },
  {
   "cell_type": "code",
   "execution_count": 6,
   "id": "9971f154",
   "metadata": {},
   "outputs": [
    {
     "name": "stdout",
     "output_type": "stream",
     "text": [
      "first name: Azwa\n",
      "last name: Arshad\n",
      "Arshad Azwa\n"
     ]
    }
   ],
   "source": [
    "first_name = input(\"first name: \")\n",
    "last_name = input(\"last name: \")\n",
    "print (last_name+\" \"+first_name)"
   ]
  },
  {
   "cell_type": "markdown",
   "id": "a6c15296",
   "metadata": {},
   "source": [
    "# Question No. 6"
   ]
  },
  {
   "cell_type": "code",
   "execution_count": 12,
   "id": "ecf01f75",
   "metadata": {},
   "outputs": [
    {
     "name": "stdout",
     "output_type": "stream",
     "text": [
      "a string that you don't have to escape\n",
      "This\n",
      "is a ....... multi-line\n",
      "heredoc string -------> example\n"
     ]
    }
   ],
   "source": [
    "print (\"a string that you don't have to escape\\nThis\\nis a ....... multi-line\\nheredoc string -------> example\" )"
   ]
  },
  {
   "cell_type": "code",
   "execution_count": null,
   "id": "7c0412a8",
   "metadata": {},
   "outputs": [],
   "source": []
  }
 ],
 "metadata": {
  "kernelspec": {
   "display_name": "Python 3 (ipykernel)",
   "language": "python",
   "name": "python3"
  },
  "language_info": {
   "codemirror_mode": {
    "name": "ipython",
    "version": 3
   },
   "file_extension": ".py",
   "mimetype": "text/x-python",
   "name": "python",
   "nbconvert_exporter": "python",
   "pygments_lexer": "ipython3",
   "version": "3.9.7"
  }
 },
 "nbformat": 4,
 "nbformat_minor": 5
}
