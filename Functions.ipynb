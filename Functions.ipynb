{
 "cells": [
  {
   "cell_type": "markdown",
   "id": "ed26718b",
   "metadata": {},
   "source": [
    "# FUNCTIONS"
   ]
  },
  {
   "cell_type": "markdown",
   "id": "2b909bda",
   "metadata": {},
   "source": [
    "## Syntax:\n",
    "      def function name( ):\n",
    "          \"\"\"Doc String\"\"\"\n",
    "          Expression\n",
    "          Statement"
   ]
  },
  {
   "cell_type": "markdown",
   "id": "96e8d302",
   "metadata": {},
   "source": [
    "### Function with no parameters and no arguments"
   ]
  },
  {
   "cell_type": "code",
   "execution_count": 4,
   "id": "36bde8d9",
   "metadata": {},
   "outputs": [
    {
     "name": "stdout",
     "output_type": "stream",
     "text": [
      "Hey!\n"
     ]
    }
   ],
   "source": [
    "def abc():\n",
    "    print(\"Hey!\")\n",
    "abc()"
   ]
  },
  {
   "cell_type": "code",
   "execution_count": 5,
   "id": "be1544eb",
   "metadata": {},
   "outputs": [
    {
     "name": "stdout",
     "output_type": "stream",
     "text": [
      "Hello!\n"
     ]
    }
   ],
   "source": [
    "def xyz():\n",
    "    print(\"Hello!\")\n",
    "xyz()    "
   ]
  },
  {
   "cell_type": "markdown",
   "id": "bf1eaf70",
   "metadata": {},
   "source": [
    "### Function with 1 parameter and 1 argument"
   ]
  },
  {
   "cell_type": "code",
   "execution_count": 3,
   "id": "f7ddc4de",
   "metadata": {},
   "outputs": [
    {
     "name": "stdout",
     "output_type": "stream",
     "text": [
      "5\n"
     ]
    }
   ],
   "source": [
    "def Value(X):\n",
    "    print(X)\n",
    "Value(5)    "
   ]
  },
  {
   "cell_type": "code",
   "execution_count": 7,
   "id": "bc2e3ec1",
   "metadata": {},
   "outputs": [
    {
     "name": "stdout",
     "output_type": "stream",
     "text": [
      "10\n"
     ]
    }
   ],
   "source": [
    "def Val(Y):\n",
    "    print(Y)\n",
    "Val(10)    "
   ]
  },
  {
   "cell_type": "code",
   "execution_count": 8,
   "id": "499f4a96",
   "metadata": {},
   "outputs": [
    {
     "name": "stdout",
     "output_type": "stream",
     "text": [
      "25\n"
     ]
    }
   ],
   "source": [
    "def CalculateSquare(Num):\n",
    "    \"\"\"This function will calculate the square of the number\"\"\"\n",
    "    Square = Num**2\n",
    "    print(Square)\n",
    "CalculateSquare(5)    "
   ]
  },
  {
   "cell_type": "code",
   "execution_count": 9,
   "id": "4d9b71a4",
   "metadata": {},
   "outputs": [
    {
     "name": "stdout",
     "output_type": "stream",
     "text": [
      "20 is even number\n",
      "15 is odd number\n"
     ]
    }
   ],
   "source": [
    "def Even_Odd(Num):\n",
    "    \"\"\"This funcion will check whether a number is even or odd\"\"\"\n",
    "    if Num%2 == 0:\n",
    "        print(Num, \"is even number\")\n",
    "    else:\n",
    "        print(Num, \"is odd number\")\n",
    "Even_Odd(20)\n",
    "Even_Odd(15)"
   ]
  },
  {
   "cell_type": "markdown",
   "id": "246e57dc",
   "metadata": {},
   "source": [
    "### Function with 2 parameters and 2 arguments"
   ]
  },
  {
   "cell_type": "code",
   "execution_count": 1,
   "id": "401ba8b4",
   "metadata": {},
   "outputs": [
    {
     "name": "stdout",
     "output_type": "stream",
     "text": [
      "Name:  Azwa\n",
      "Father_Name:  Arshad\n"
     ]
    }
   ],
   "source": [
    "def Info(name,f_name):\n",
    "    print(\"Name: \", name)\n",
    "    print(\"Father_Name: \", f_name)\n",
    "Info(\"Azwa\", \"Arshad\")    "
   ]
  },
  {
   "cell_type": "code",
   "execution_count": 4,
   "id": "8781cc6e",
   "metadata": {},
   "outputs": [
    {
     "name": "stdout",
     "output_type": "stream",
     "text": [
      "First value:  10\n",
      "Second value:  30\n",
      "Total value:  40\n"
     ]
    }
   ],
   "source": [
    "def Addition(Num1, Num2):\n",
    "    print(\"First value: \",Num1)\n",
    "    print(\"Second value: \",Num2)\n",
    "    Total = Num1 + Num2\n",
    "    print(\"Total value: \", Total)\n",
    "Addition(10,30)    "
   ]
  },
  {
   "cell_type": "code",
   "execution_count": 5,
   "id": "fb1d47d0",
   "metadata": {},
   "outputs": [
    {
     "name": "stdout",
     "output_type": "stream",
     "text": [
      "First value:  5\n",
      "Second value:  10\n",
      "Total value:  50\n"
     ]
    }
   ],
   "source": [
    "def Multiplication(Num1, Num2):\n",
    "    print(\"First value: \",Num1)\n",
    "    print(\"Second value: \",Num2)\n",
    "    Total = Num1 * Num2\n",
    "    print(\"Total value: \", Total)\n",
    "Multiplication(5,10)  "
   ]
  },
  {
   "cell_type": "code",
   "execution_count": 9,
   "id": "e4200a60",
   "metadata": {},
   "outputs": [
    {
     "data": {
      "text/plain": [
       "720"
      ]
     },
     "execution_count": 9,
     "metadata": {},
     "output_type": "execute_result"
    }
   ],
   "source": [
    "def Factorial(Num):\n",
    "    if Num <= 1:\n",
    "        return 1\n",
    "    else:\n",
    "        return Num * Factorial(Num - 1)\n",
    "Factorial(6)    "
   ]
  },
  {
   "cell_type": "markdown",
   "id": "2f9cc211",
   "metadata": {},
   "source": [
    "### Function with unlimited parameters and unlimited arguments"
   ]
  },
  {
   "cell_type": "code",
   "execution_count": 10,
   "id": "24dfafdc",
   "metadata": {},
   "outputs": [
    {
     "name": "stdout",
     "output_type": "stream",
     "text": [
      "1\n",
      "2\n",
      "3\n",
      "4\n",
      "5\n",
      "6\n",
      "7\n",
      "8\n"
     ]
    }
   ],
   "source": [
    "def Func(*args):\n",
    "    for i in args:\n",
    "        print(i)\n",
    "Func(1,2,3,4,5,6,7,8)        "
   ]
  },
  {
   "cell_type": "code",
   "execution_count": 2,
   "id": "977e36b7",
   "metadata": {},
   "outputs": [
    {
     "name": "stdout",
     "output_type": "stream",
     "text": [
      "('Azwa Arshad', 18, 123, 'azwaarshad1194@gmail.com')\n"
     ]
    }
   ],
   "source": [
    "def Details(*args):\n",
    "    print(args)\n",
    "Details(\"Azwa Arshad\", 18, 123, \"azwaarshad1194@gmail.com\")    "
   ]
  },
  {
   "cell_type": "code",
   "execution_count": 3,
   "id": "8bd14e2f",
   "metadata": {},
   "outputs": [
    {
     "name": "stdout",
     "output_type": "stream",
     "text": [
      "Azwa Arshad\n",
      "18\n",
      "123\n",
      "azwaarshad1194@gmail.com\n"
     ]
    }
   ],
   "source": [
    "def UserDetails(*args):\n",
    "    for i in args:\n",
    "        print(i)\n",
    "UserDetails(\"Azwa Arshad\", 18, 123, \"azwaarshad1194@gmail.com\")        "
   ]
  },
  {
   "cell_type": "markdown",
   "id": "3e57d6c6",
   "metadata": {},
   "source": [
    "### Function with dictionary"
   ]
  },
  {
   "cell_type": "code",
   "execution_count": 4,
   "id": "d39b736f",
   "metadata": {},
   "outputs": [
    {
     "name": "stdout",
     "output_type": "stream",
     "text": [
      "{'Name': 'Azwa', 'F_Name': 'Arshad', 'Age': 18, 'Roll_No': 123, 'E_Mail': 'azwaarshad1194@gmail.com'}\n"
     ]
    }
   ],
   "source": [
    "def Details(**kwargs):\n",
    "    print(kwargs)\n",
    "Details(Name = \"Azwa\", F_Name = \"Arshad\", Age = 18, Roll_No = 123, E_Mail = \"azwaarshad1194@gmail.com\")    "
   ]
  },
  {
   "cell_type": "code",
   "execution_count": 5,
   "id": "d7d83370",
   "metadata": {},
   "outputs": [
    {
     "name": "stdout",
     "output_type": "stream",
     "text": [
      "Name : Azwa\n",
      "F_Name : Arshad\n",
      "Age : 18\n",
      "Roll_No : 123\n",
      "Country : Pakistan\n",
      "Language : Urdu\n"
     ]
    }
   ],
   "source": [
    "def UserDetails(**kwargs):\n",
    "    for key,val in kwargs.items():\n",
    "        print(\"{} : {}\".format(key,val))\n",
    "UserDetails(Name = \"Azwa\", F_Name = \"Arshad\", Age = 18, Roll_No = 123, Country = \"Pakistan\", Language = \"Urdu\")        "
   ]
  },
  {
   "cell_type": "code",
   "execution_count": null,
   "id": "75c619e0",
   "metadata": {},
   "outputs": [],
   "source": []
  },
  {
   "cell_type": "code",
   "execution_count": null,
   "id": "e6e502f7",
   "metadata": {},
   "outputs": [],
   "source": []
  },
  {
   "cell_type": "code",
   "execution_count": null,
   "id": "4da5f9ee",
   "metadata": {},
   "outputs": [],
   "source": []
  }
 ],
 "metadata": {
  "kernelspec": {
   "display_name": "Python 3 (ipykernel)",
   "language": "python",
   "name": "python3"
  },
  "language_info": {
   "codemirror_mode": {
    "name": "ipython",
    "version": 3
   },
   "file_extension": ".py",
   "mimetype": "text/x-python",
   "name": "python",
   "nbconvert_exporter": "python",
   "pygments_lexer": "ipython3",
   "version": "3.9.7"
  }
 },
 "nbformat": 4,
 "nbformat_minor": 5
}
